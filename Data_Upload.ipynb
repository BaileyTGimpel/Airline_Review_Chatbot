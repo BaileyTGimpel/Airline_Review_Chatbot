{
 "cells": [
  {
   "cell_type": "code",
   "execution_count": null,
   "metadata": {},
   "outputs": [],
   "source": [
    "import json \n",
    "import os \n",
    "import pandas as pd    \n",
    "import time  \n",
    "from time import sleep\n",
    "from dotenv import load_dotenv \n",
    "from tenacity import retry, stop_after_attempt, wait_random_exponential\n",
    "from openai import OpenAI  \n",
    "from supabase import create_client, Client\n",
    "\n",
    "load_dotenv('.env')\n",
    "\n",
    "OPENAI_KEY = os.environ.get(\"OPENAI_KEY\")\n",
    "SUPABASE_URL = os.environ.get(\"SUPABASE_URL\")\n",
    "SUPABASE_KEY = os.environ.get(\"SUPABASE_KEY\")\n",
    "EMBDDING_MODEL = \"text-embedding-ada-002\"   \n",
    "\n",
    "client = OpenAI(\n",
    "    api_key = OPENAI_KEY\n",
    ")  \n",
    "\n",
    "supabase: Client = create_client(SUPABASE_URL,SUPABASE_KEY)\n",
    "\n",
    "emb_file_path = '/Users/baileygimpel/Desktop/Review_Search/review_data/airline_review_embeddings.csv'"
   ]
  },
  {
   "cell_type": "code",
   "execution_count": null,
   "metadata": {},
   "outputs": [],
   "source": [
    "df = pd.read_csv('processed_airline_reviews.csv')    \n",
    "    \n",
    "print(df.shape) \n",
    "\n",
    "df.head()"
   ]
  },
  {
   "cell_type": "code",
   "execution_count": null,
   "metadata": {},
   "outputs": [],
   "source": [
    "RPM = 500 \n",
    "sleep_time = RPM / 60 \n",
    "\n",
    "@retry(wait=wait_random_exponential(min=1, max=60), stop=stop_after_attempt(6))\n",
    "def get_embedding(text, model):\n",
    "   time.sleep(sleep_time)\n",
    "   text = text.replace(\"\\n\", \" \")\n",
    "   return client.embeddings.create(input = text, model=model).data[0].embedding   \n",
    "\n",
    "\n",
    "if not os.path.exists(emb_file_path):\n",
    "     \n",
    "    df['embedding'] = df.embedding_input.apply(lambda x: get_embedding(x, model=EMBDDING_MODEL))\n",
    "    \n",
    "    df.to_csv(emb_file_path, index=False)\n",
    "    print(\"Embeddings generated and saved to CSV.\")\n",
    "\n",
    "else:\n",
    "\n",
    "    emb_df = pd.read_csv(emb_file_path)\n",
    "    print(\"CSV file with embeddings loaded.\")"
   ]
  },
  {
   "cell_type": "code",
   "execution_count": null,
   "metadata": {},
   "outputs": [],
   "source": [
    "for index, row in emb_df.iterrows():\n",
    "    \n",
    "    data = {\n",
    "       \"input_content\": row['embedding_input'],\n",
    "        \"embedding\": row['embedding']\n",
    "    }\n",
    "    \n",
    "    supabase.table(\"airline_reviews\").insert(data).execute()"
   ]
  }
 ],
 "metadata": {
  "kernelspec": {
   "display_name": "venv_reviews",
   "language": "python",
   "name": "python3"
  },
  "language_info": {
   "codemirror_mode": {
    "name": "ipython",
    "version": 3
   },
   "file_extension": ".py",
   "mimetype": "text/x-python",
   "name": "python",
   "nbconvert_exporter": "python",
   "pygments_lexer": "ipython3",
   "version": "3.11.6"
  }
 },
 "nbformat": 4,
 "nbformat_minor": 2
}
